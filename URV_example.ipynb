{
 "cells": [
  {
   "cell_type": "code",
   "execution_count": 33,
   "id": "593290d5",
   "metadata": {},
   "outputs": [
    {
     "data": {
      "text/plain": [
       "array([[1, 2, 3, 4, 5],\n",
       "       [1, 1, 1, 1, 1],\n",
       "       [2, 3, 4, 5, 6],\n",
       "       [0, 1, 0, 1, 0]])"
      ]
     },
     "execution_count": 33,
     "metadata": {},
     "output_type": "execute_result"
    }
   ],
   "source": [
    "import numpy as np\n",
    "\n",
    "A = np.array([[1,2,3,4,5],[1,1,1,1,1],[2,3,4,5,6],[0,1,0,1,0]])\n",
    "A"
   ]
  },
  {
   "cell_type": "code",
   "execution_count": 34,
   "id": "503e22bd",
   "metadata": {},
   "outputs": [
    {
     "data": {
      "text/plain": [
       "array([[-2.449, -3.674, -4.899, -6.124, -7.348],\n",
       "       [ 0.   ,  1.225,  0.816,  2.041,  1.633],\n",
       "       [ 0.   ,  0.   ,  1.155,  1.155,  2.309],\n",
       "       [ 0.   ,  0.   ,  0.   , -0.   , -0.   ]])"
      ]
     },
     "execution_count": 34,
     "metadata": {},
     "output_type": "execute_result"
    }
   ],
   "source": [
    "Q1, R1 = np.linalg.qr(A)\n",
    "R1.round(3)"
   ]
  },
  {
   "cell_type": "code",
   "execution_count": 35,
   "id": "0ee67705",
   "metadata": {},
   "outputs": [
    {
     "data": {
      "text/plain": [
       "array([[ 1.,  2.,  3.,  4.,  5.],\n",
       "       [ 1.,  1.,  1.,  1.,  1.],\n",
       "       [ 2.,  3.,  4.,  5.,  6.],\n",
       "       [-0.,  1., -0.,  1., -0.]])"
      ]
     },
     "execution_count": 35,
     "metadata": {},
     "output_type": "execute_result"
    }
   ],
   "source": [
    "Q2, R2 = np.linalg.qr(R1.T)\n",
    "(Q1 @ R2.T @ Q2.T).round(3)"
   ]
  },
  {
   "cell_type": "code",
   "execution_count": 36,
   "id": "09fae354",
   "metadata": {},
   "outputs": [
    {
     "data": {
      "text/plain": [
       "array([[11.619, -2.84 , -2.556,  0.   ],\n",
       "       [ 0.   , -0.966,  0.195, -0.   ],\n",
       "       [ 0.   ,  0.   , -1.195,  0.   ],\n",
       "       [ 0.   ,  0.   ,  0.   , -0.   ]])"
      ]
     },
     "execution_count": 36,
     "metadata": {},
     "output_type": "execute_result"
    }
   ],
   "source": [
    "R2.round(3)"
   ]
  },
  {
   "cell_type": "markdown",
   "id": "05d8a810",
   "metadata": {},
   "source": [
    "Below are the bases U, V that we are after:"
   ]
  },
  {
   "cell_type": "code",
   "execution_count": 37,
   "id": "50057b5f",
   "metadata": {},
   "outputs": [],
   "source": [
    "U = Q1\n",
    "R = R2.T\n",
    "V = Q2"
   ]
  },
  {
   "cell_type": "markdown",
   "id": "6bbab63e",
   "metadata": {},
   "source": [
    "Let's doublecheck that we did everything right. We should be able to reconstruct A as below (otherwise we did something wrong)"
   ]
  },
  {
   "cell_type": "code",
   "execution_count": 31,
   "id": "fca1aead",
   "metadata": {},
   "outputs": [],
   "source": [
    "r = np.linalg.matrix_rank(A)\n",
    "\n",
    "U1 = U[:,:r]\n",
    "V1 = V[:,:r]\n",
    "C = R[:r,:r]"
   ]
  },
  {
   "cell_type": "code",
   "execution_count": 32,
   "id": "2b34dd21",
   "metadata": {},
   "outputs": [
    {
     "data": {
      "text/plain": [
       "array([[ 1.,  2.,  3.,  4.,  5.],\n",
       "       [ 1.,  1.,  1.,  1.,  1.],\n",
       "       [ 2.,  3.,  4.,  5.,  6.],\n",
       "       [-0.,  1., -0.,  1., -0.]])"
      ]
     },
     "execution_count": 32,
     "metadata": {},
     "output_type": "execute_result"
    }
   ],
   "source": [
    "Ahat = U1 @ C @ V1.T\n",
    "Ahat.round(2)"
   ]
  }
 ],
 "metadata": {
  "kernelspec": {
   "display_name": "Python 3 (ipykernel)",
   "language": "python",
   "name": "python3"
  },
  "language_info": {
   "codemirror_mode": {
    "name": "ipython",
    "version": 3
   },
   "file_extension": ".py",
   "mimetype": "text/x-python",
   "name": "python",
   "nbconvert_exporter": "python",
   "pygments_lexer": "ipython3",
   "version": "3.9.13"
  }
 },
 "nbformat": 4,
 "nbformat_minor": 5
}
