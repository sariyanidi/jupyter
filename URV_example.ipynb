{
 "cells": [
  {
   "cell_type": "code",
   "execution_count": 2,
   "id": "e2529339",
   "metadata": {},
   "outputs": [
    {
     "data": {
      "text/plain": [
       "array([[1, 2, 3, 4, 5],\n",
       "       [1, 1, 1, 1, 1],\n",
       "       [2, 3, 4, 5, 6],\n",
       "       [0, 1, 0, 1, 0]])"
      ]
     },
     "execution_count": 2,
     "metadata": {},
     "output_type": "execute_result"
    }
   ],
   "source": [
    "import numpy as np\n",
    "\n",
    "A = np.array([[1,2,3,4,5],[1,1,1,1,1],[2,3,4,5,6],[0,1,0,1,0]])\n",
    "A"
   ]
  },
  {
   "cell_type": "code",
   "execution_count": null,
   "id": "af57177e",
   "metadata": {},
   "outputs": [],
   "source": [
    "Q1, R1 = np.linalg.qr(A)\n",
    "R1.round(3)"
   ]
  },
  {
   "cell_type": "code",
   "execution_count": 4,
   "id": "593f5534",
   "metadata": {},
   "outputs": [
    {
     "data": {
      "text/plain": [
       "array([[ 1.,  2.,  3.,  4.,  5.],\n",
       "       [ 1.,  1.,  1.,  1.,  1.],\n",
       "       [ 2.,  3.,  4.,  5.,  6.],\n",
       "       [-0.,  1., -0.,  1., -0.]])"
      ]
     },
     "execution_count": 4,
     "metadata": {},
     "output_type": "execute_result"
    }
   ],
   "source": [
    "Q2, R2 = np.linalg.qr(R1.T)\n",
    "(Q1 @ R2.T @ Q2.T).round(3)"
   ]
  },
  {
   "cell_type": "code",
   "execution_count": 5,
   "id": "38ab4a75",
   "metadata": {},
   "outputs": [
    {
     "data": {
      "text/plain": [
       "array([[11.619, -2.84 , -2.556,  0.   ],\n",
       "       [ 0.   , -0.966,  0.195, -0.   ],\n",
       "       [ 0.   ,  0.   , -1.195,  0.   ],\n",
       "       [ 0.   ,  0.   ,  0.   , -0.   ]])"
      ]
     },
     "execution_count": 5,
     "metadata": {},
     "output_type": "execute_result"
    }
   ],
   "source": [
    "R2.round(3)"
   ]
  }
 ],
 "metadata": {
  "kernelspec": {
   "display_name": "Python 3 (ipykernel)",
   "language": "python",
   "name": "python3"
  },
  "language_info": {
   "codemirror_mode": {
    "name": "ipython",
    "version": 3
   },
   "file_extension": ".py",
   "mimetype": "text/x-python",
   "name": "python",
   "nbconvert_exporter": "python",
   "pygments_lexer": "ipython3",
   "version": "3.9.13"
  }
 },
 "nbformat": 4,
 "nbformat_minor": 5
}
