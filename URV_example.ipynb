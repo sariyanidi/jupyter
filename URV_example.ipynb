{
 "cells": [
  {
   "cell_type": "code",
   "execution_count": 2,
   "id": "593290d5",
   "metadata": {},
   "outputs": [
    {
     "data": {
      "text/plain": [
       "array([[1, 2, 3, 4, 5],\n",
       "       [1, 1, 1, 1, 1],\n",
       "       [2, 3, 4, 5, 6],\n",
       "       [0, 1, 0, 1, 0]])"
      ]
     },
     "execution_count": 2,
     "metadata": {},
     "output_type": "execute_result"
    }
   ],
   "source": [
    "import numpy as np\n",
    "\n",
    "A = np.array([[1,2,3,4,5],[1,1,1,1,1],[2,3,4,5,6],[0,1,0,1,0]])\n",
    "A"
   ]
  },
  {
   "cell_type": "code",
   "execution_count": 6,
   "id": "503e22bd",
   "metadata": {},
   "outputs": [
    {
     "data": {
      "text/plain": [
       "array([[-2.449, -3.674, -4.899, -6.124, -7.348],\n",
       "       [ 0.   ,  1.225,  0.816,  2.041,  1.633],\n",
       "       [ 0.   ,  0.   ,  1.155,  1.155,  2.309],\n",
       "       [ 0.   ,  0.   ,  0.   , -0.   , -0.   ]])"
      ]
     },
     "execution_count": 6,
     "metadata": {},
     "output_type": "execute_result"
    }
   ],
   "source": [
    "Q1, R1 = np.linalg.qr(A)\n",
    "R1.round(3)"
   ]
  },
  {
   "cell_type": "code",
   "execution_count": 7,
   "id": "0ee67705",
   "metadata": {},
   "outputs": [
    {
     "data": {
      "text/plain": [
       "array([[ 1.,  2.,  3.,  4.,  5.],\n",
       "       [ 1.,  1.,  1.,  1.,  1.],\n",
       "       [ 2.,  3.,  4.,  5.,  6.],\n",
       "       [-0.,  1., -0.,  1., -0.]])"
      ]
     },
     "execution_count": 7,
     "metadata": {},
     "output_type": "execute_result"
    }
   ],
   "source": [
    "Q2, R2 = np.linalg.qr(R1.T)\n",
    "(Q1 @ R2.T @ Q2.T).round(3)"
   ]
  },
  {
   "cell_type": "code",
   "execution_count": 8,
   "id": "9dbad19e",
   "metadata": {},
   "outputs": [
    {
     "data": {
      "text/plain": [
       "array([[11.619, -2.84 , -2.556,  0.   ],\n",
       "       [ 0.   , -0.966,  0.195, -0.   ],\n",
       "       [ 0.   ,  0.   , -1.195,  0.   ],\n",
       "       [ 0.   ,  0.   ,  0.   , -0.   ]])"
      ]
     },
     "execution_count": 8,
     "metadata": {},
     "output_type": "execute_result"
    }
   ],
   "source": [
    "R2.round(3)"
   ]
  }
 ],
 "metadata": {
  "kernelspec": {
   "display_name": "Python 3 (ipykernel)",
   "language": "python",
   "name": "python3"
  },
  "language_info": {
   "codemirror_mode": {
    "name": "ipython",
    "version": 3
   },
   "file_extension": ".py",
   "mimetype": "text/x-python",
   "name": "python",
   "nbconvert_exporter": "python",
   "pygments_lexer": "ipython3",
   "version": "3.9.13"
  }
 },
 "nbformat": 4,
 "nbformat_minor": 5
}
