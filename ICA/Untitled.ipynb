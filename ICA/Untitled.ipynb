{
 "cells": [
  {
   "cell_type": "code",
   "execution_count": 19,
   "id": "c8e9b8ba",
   "metadata": {},
   "outputs": [
    {
     "name": "stdout",
     "output_type": "stream",
     "text": [
      "0.125\n",
      "2.0794415416798357\n"
     ]
    }
   ],
   "source": [
    "import numpy as np\n",
    "import matplotlib.pyplot as plt\n",
    "\n",
    "#ps = [1./x for x in [2,4,8,16,64,64,64,64]]\n",
    "ps = np.array([1,1,1,1,1,1,1.,1])\n",
    "ps /= float(np.sum(ps))\n",
    "\n",
    "print(p)\n",
    "\n",
    "h = 0\n",
    "for p in ps:\n",
    "    h -= p*np.log(p)\n",
    "print(h)"
   ]
  },
  {
   "cell_type": "code",
   "execution_count": 48,
   "id": "9dbe98bd",
   "metadata": {},
   "outputs": [
    {
     "name": "stdout",
     "output_type": "stream",
     "text": [
      "0.9985993878863337\n"
     ]
    }
   ],
   "source": [
    "K = 100000\n",
    "x = np.random.default_rng().laplace(size=(K,1))\n",
    "\n",
    "ms = []\n",
    "es = []\n",
    "for i in range(K):\n",
    "    ms.append(np.mean(x[:i]))\n",
    "    es.append(np.abs(x[i]))\n",
    "print(np.mean(es))"
   ]
  },
  {
   "cell_type": "code",
   "execution_count": 34,
   "id": "12a543aa",
   "metadata": {},
   "outputs": [
    {
     "data": {
      "text/plain": [
       "[<matplotlib.lines.Line2D at 0x10eade7c0>]"
      ]
     },
     "execution_count": 34,
     "metadata": {},
     "output_type": "execute_result"
    },
    {
     "data": {
      "image/png": "[encoded data removed]",
      "text/plain": [
       "<Figure size 432x288 with 1 Axes>"
      ]
     },
     "metadata": {
      "needs_background": "light"
     },
     "output_type": "display_data"
    }
   ],
   "source": [
    "plt.plot(ms)"
   ]
  }
 ],
 "metadata": {
  "kernelspec": {
   "display_name": "Python 3 (ipykernel)",
   "language": "python",
   "name": "python3"
  },
  "language_info": {
   "codemirror_mode": {
    "name": "ipython",
    "version": 3
   },
   "file_extension": ".py",
   "mimetype": "text/x-python",
   "name": "python",
   "nbconvert_exporter": "python",
   "pygments_lexer": "ipython3",
   "version": "3.9.13"
  }
 },
 "nbformat": 4,
 "nbformat_minor": 5
}
