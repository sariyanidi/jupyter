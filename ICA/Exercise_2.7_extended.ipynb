{
 "cells": [
  {
   "cell_type": "code",
   "execution_count": 3,
   "id": "38f85546",
   "metadata": {},
   "outputs": [
    {
     "data": {
      "text/plain": [
       "array([[ 1.61226024,  0.        ],\n",
       "       [ 0.        , 11.38773976]])"
      ]
     },
     "execution_count": 3,
     "metadata": {},
     "output_type": "execute_result"
    }
   ],
   "source": [
    "import numpy as np\n",
    "import scipy\n",
    "\n",
    "s1 = 2\n",
    "s2 = 3\n",
    "rho = 0.7\n",
    "\n",
    "Cx = np.array([[s1**2, rho*s1*s2],[rho*s1*s2, s2**2]])\n",
    "R1 = np.linalg.eig(Cx)[1].T\n",
    "R1@Cx@R1.T"
   ]
  },
  {
   "cell_type": "code",
   "execution_count": 4,
   "id": "2b8d3f41",
   "metadata": {},
   "outputs": [
    {
     "data": {
      "text/plain": [
       "array([[ 1.6122602,  0.       ],\n",
       "       [ 0.       , 11.3877398]])"
      ]
     },
     "execution_count": 4,
     "metadata": {},
     "output_type": "execute_result"
    }
   ],
   "source": [
    "a = 0.5*np.arctan(2*rho*s1*s2/(s1**2-s2**2))\n",
    "R2 = np.array([[np.cos(a), np.sin(a)],[-np.sin(a), np.cos(a)]])\n",
    "(R2 @ Cx @ R2.T).round(7)"
   ]
  }
 ],
 "metadata": {
  "kernelspec": {
   "display_name": "Python 3 (ipykernel)",
   "language": "python",
   "name": "python3"
  },
  "language_info": {
   "codemirror_mode": {
    "name": "ipython",
    "version": 3
   },
   "file_extension": ".py",
   "mimetype": "text/x-python",
   "name": "python",
   "nbconvert_exporter": "python",
   "pygments_lexer": "ipython3",
   "version": "3.9.13"
  }
 },
 "nbformat": 4,
 "nbformat_minor": 5
}
