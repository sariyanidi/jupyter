{
 "cells": [
  {
   "cell_type": "code",
   "execution_count": 213,
   "id": "96f37e16",
   "metadata": {},
   "outputs": [],
   "source": [
    "# Comparison of Entropy computations:\n",
    "# * True entropy\n",
    "# * Numerically computed entropy\n",
    "# * Approximated entropies\n",
    "#    * Polynomial approximation (Sec 5.6.1 of ICA book)\n",
    "#    * Nonpolynomial approximation (Sec 5.6.2)"
   ]
  },
  {
   "cell_type": "code",
   "execution_count": 215,
   "id": "5d4bcfe5",
   "metadata": {},
   "outputs": [
    {
     "name": "stdout",
     "output_type": "stream",
     "text": [
      "1.0002010557472434\n"
     ]
    },
    {
     "data": {
      "image/png": "[encoded data removed]",
      "text/plain": [
       "<Figure size 432x288 with 1 Axes>"
      ]
     },
     "metadata": {
      "needs_background": "light"
     },
     "output_type": "display_data"
    }
   ],
   "source": [
    "import matplotlib.pyplot as plt\n",
    "import numpy as np\n",
    "K = 10000000\n",
    "u = np.random.rand(K)\n",
    "u -= np.mean(u)\n",
    "u /= np.std(u)\n",
    "\n",
    "g = np.random.randn(K)\n",
    "\n",
    "b = 1./np.sqrt(2)\n",
    "l = np.random.laplace(scale=b, size=(K,))\n",
    "print(l.std())\n",
    "#l -= l.mean()\n",
    "#l /= l.std()\n",
    "\n",
    "(pu, ubins, _) = plt.hist(u, 100, density=True)\n",
    "(pl, lbins, _) = plt.hist(l, 100, density=True)\n",
    "(pg, gbins, _) = plt.hist(g, 100, density=True)"
   ]
  },
  {
   "cell_type": "code",
   "execution_count": 216,
   "id": "f1af50fd",
   "metadata": {},
   "outputs": [],
   "source": [
    "def entropy_numeric(p, bins):\n",
    "\n",
    "    H = 0\n",
    "    for i in range(len(bins)-1):\n",
    "        x0 = bins[i]\n",
    "        x1 = bins[i+1]\n",
    "        dx = x1-x0\n",
    "        if p[i] == 0:\n",
    "            continue\n",
    "        H -= (np.log2(p[i])*p[i]*dx)\n",
    "    \n",
    "    return H"
   ]
  },
  {
   "cell_type": "code",
   "execution_count": 217,
   "id": "cbb847a1",
   "metadata": {},
   "outputs": [
    {
     "name": "stdout",
     "output_type": "stream",
     "text": [
      "1.7925526892889134\n",
      "1.9426950408889632\n",
      "2.047095585180641\n"
     ]
    }
   ],
   "source": [
    "## 0 True entropies\n",
    "\n",
    "# True entropy for uniform\n",
    "print(np.log2(np.max(u)-np.min(u)))\n",
    "\n",
    "# True entropy for laplace: \n",
    "print(np.log2(2*b*np.e))\n",
    "\n",
    "Hgauss = 1./2*np.log2(2*np.e*np.pi) \n",
    "print(Hgauss)"
   ]
  },
  {
   "cell_type": "code",
   "execution_count": 218,
   "id": "7af1be86",
   "metadata": {},
   "outputs": [
    {
     "name": "stdout",
     "output_type": "stream",
     "text": [
      "1.7925442077995766\n",
      "1.9490666737090407\n",
      "2.0476503288827765\n"
     ]
    }
   ],
   "source": [
    "#1: Numeric entropies\n",
    "Hu = entropy_numeric(pu, ubins)\n",
    "Hl = entropy_numeric(pl, lbins)\n",
    "Hg = entropy_numeric(pg, gbins)\n",
    "print(Hu)\n",
    "print(Hl)\n",
    "print(Hg)"
   ]
  },
  {
   "cell_type": "code",
   "execution_count": 219,
   "id": "a436952f",
   "metadata": {},
   "outputs": [
    {
     "name": "stdout",
     "output_type": "stream",
     "text": [
      "2.047095585180641\n"
     ]
    }
   ],
   "source": [
    "from scipy.stats import kurtosis\n",
    "\n",
    "print(Hgauss)"
   ]
  },
  {
   "cell_type": "code",
   "execution_count": 220,
   "id": "1aa3b532",
   "metadata": {},
   "outputs": [],
   "source": [
    "def entropy_poly_approx(x):\n",
    "    E3 = np.mean(x**3)\n",
    "    E3_2 = E3**2\n",
    "    kurt = kurtosis(x)\n",
    "    \n",
    "    # J is NEGentropy\n",
    "    J = (1./12.)*E3_2 + (1./48.)*kurt**2\n",
    "    \n",
    "    Happrox = Hgauss-J\n",
    "    \n",
    "    # Top obtain ENTROPY, we need to use the ENTROPY of gaussian (see eq 5.24)\n",
    "    return Happrox"
   ]
  },
  {
   "cell_type": "code",
   "execution_count": 221,
   "id": "d5a4e6e1",
   "metadata": {},
   "outputs": [
    {
     "name": "stdout",
     "output_type": "stream",
     "text": [
      "2.0171193469132236\n",
      "1.8600489081239104\n",
      "2.047095552108735\n"
     ]
    }
   ],
   "source": [
    "#2: Approx by polynomial\n",
    "print(entropy_poly_approx(u))\n",
    "print(entropy_poly_approx(l))\n",
    "print(entropy_poly_approx(g))"
   ]
  },
  {
   "cell_type": "code",
   "execution_count": 222,
   "id": "39f9d65c",
   "metadata": {},
   "outputs": [],
   "source": [
    "G1 = lambda x : x*np.exp(-(x**2)/2.)\n",
    "G2a = lambda x : np.abs(x)\n",
    "G2b = lambda x : np.exp(-(x**2.)/2.)\n",
    "\n",
    "k1 = 36./(8*np.sqrt(3)-9)\n",
    "k2a = 1./(2.-6./np.pi)\n",
    "k2b = 24./(16*np.sqrt(3)-27)\n",
    "\n",
    "def entropy_nonpoly_approx_a(x):\n",
    "    t1 = k1*np.mean(G1(x))**2\n",
    "    t2a = k2a*(np.mean(G2a(x))-np.sqrt(2./np.pi))**2\n",
    "    J = t1+t2a\n",
    "    return Hgauss-J\n",
    "\n",
    "def entropy_nonpoly_approx_b(x):\n",
    "    t1 = k1*np.mean(G1(x))**2\n",
    "    t2b = k2b*(np.mean(G2b(x))-np.sqrt(1./2))**2\n",
    "    J = t1+t2b\n",
    "    return Hgauss-J"
   ]
  },
  {
   "cell_type": "code",
   "execution_count": 223,
   "id": "dd295072",
   "metadata": {},
   "outputs": [
    {
     "name": "stdout",
     "output_type": "stream",
     "text": [
      "1.9956792497913733\n",
      "1.9561225028134266\n",
      "2.047095501460019\n"
     ]
    }
   ],
   "source": [
    "#2: Approx by polynomial\n",
    "print(entropy_nonpoly_approx_a(u))\n",
    "print(entropy_nonpoly_approx_a(l))\n",
    "print(entropy_nonpoly_approx_a(g))"
   ]
  },
  {
   "cell_type": "code",
   "execution_count": 224,
   "id": "2a43c5ab",
   "metadata": {},
   "outputs": [
    {
     "name": "stdout",
     "output_type": "stream",
     "text": [
      "1.9827257407257541\n",
      "1.9607938408393488\n",
      "2.0470954930925074\n"
     ]
    }
   ],
   "source": [
    "#2: Approx by polynomial\n",
    "print(entropy_nonpoly_approx_b(u))\n",
    "print(entropy_nonpoly_approx_b(l))\n",
    "print(entropy_nonpoly_approx_b(g))"
   ]
  }
 ],
 "metadata": {
  "kernelspec": {
   "display_name": "Python 3 (ipykernel)",
   "language": "python",
   "name": "python3"
  },
  "language_info": {
   "codemirror_mode": {
    "name": "ipython",
    "version": 3
   },
   "file_extension": ".py",
   "mimetype": "text/x-python",
   "name": "python",
   "nbconvert_exporter": "python",
   "pygments_lexer": "ipython3",
   "version": "3.9.13"
  }
 },
 "nbformat": 4,
 "nbformat_minor": 5
}
