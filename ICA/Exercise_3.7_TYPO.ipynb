{
 "cells": [
  {
   "cell_type": "code",
   "execution_count": 15,
   "id": "5b4a2002",
   "metadata": {},
   "outputs": [
    {
     "data": {
      "text/latex": [
       "$\\displaystyle \\left[\\begin{matrix}11 & 12\\\\21 & 22\\end{matrix}\\right]$"
      ],
      "text/plain": [
       "Matrix([\n",
       "[11, 12],\n",
       "[21, 22]])"
      ]
     },
     "execution_count": 15,
     "metadata": {},
     "output_type": "execute_result"
    }
   ],
   "source": [
    "import sympy as sp\n",
    "from sympy import Symbol\n",
    "w11=Symbol('w11') \n",
    "w12=Symbol('w12') \n",
    "w21=Symbol('w21') \n",
    "w22=Symbol('w22') \n",
    "\n",
    "x1 = Symbol('x1')\n",
    "x2 = Symbol('x2')\n",
    "\n",
    "J = sp.log(x1*w11+x2*w21) + sp.log(x1*w12+x2*w22)\n",
    "\n",
    "sp.Matrix([[J.diff('w11'), J.diff('w12')],[J.diff('w21'), J.diff('w22')]])\n",
    "sp.Matrix([[11,12],[21,22]])"
   ]
  },
  {
   "cell_type": "code",
   "execution_count": null,
   "id": "567b23ac",
   "metadata": {},
   "outputs": [],
   "source": []
  }
 ],
 "metadata": {
  "kernelspec": {
   "display_name": "Python 3 (ipykernel)",
   "language": "python",
   "name": "python3"
  },
  "language_info": {
   "codemirror_mode": {
    "name": "ipython",
    "version": 3
   },
   "file_extension": ".py",
   "mimetype": "text/x-python",
   "name": "python",
   "nbconvert_exporter": "python",
   "pygments_lexer": "ipython3",
   "version": "3.9.13"
  }
 },
 "nbformat": 4,
 "nbformat_minor": 5
}
