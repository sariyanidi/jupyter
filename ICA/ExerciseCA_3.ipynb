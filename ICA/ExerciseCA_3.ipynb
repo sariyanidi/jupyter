{
 "cells": [
  {
   "cell_type": "code",
   "execution_count": 431,
   "id": "e4778a1e",
   "metadata": {},
   "outputs": [
    {
     "name": "stdout",
     "output_type": "stream",
     "text": [
      "[[2.93813846 0.96587524]\n",
      " [0.96587524 1.96754047]]\n"
     ]
    }
   ],
   "source": [
    "# This exercise is about learning the first component of PCA\n",
    "# This is done by stochastic gradient and steepest gradient (i.e., batch) algorithms\n",
    "#\n",
    "# Of course PCA can be directly obtained via eigenvalue decomposition, but the goal here is to \n",
    "# become familiar with gradient descent and stochastic descent\n",
    "\n",
    "import copy\n",
    "import numpy as np\n",
    "import matplotlib.pyplot as plt\n",
    "\n",
    "N = 10000\n",
    "x = np.random.randn(2,N)\n",
    "C = np.array([[3,1],[1,2]])\n",
    "A = np.linalg.cholesky(C)\n",
    "x = A@x\n",
    "Chat = x@x.T/N\n",
    "\n",
    "# The solution should converge to the eigenvector\n",
    "ev = np.linalg.eig(Chat)[1][:,0].reshape(-1,1)\n",
    "w0 = np.random.randn(2,1)\n",
    "print(x@x.T/N)\n",
    "\n",
    "# the cost function for PCA\n",
    "def J(w):\n",
    "    cost = (x**2).sum(axis=0).mean()\n",
    "    cost -= ((w.T@x)**2).mean()\n",
    "    return cost"
   ]
  },
  {
   "cell_type": "code",
   "execution_count": 432,
   "id": "5e475607",
   "metadata": {},
   "outputs": [
    {
     "name": "stdout",
     "output_type": "stream",
     "text": [
      "[[0.85120078 0.52484682]]\n",
      "6.448323934781133e-05\n"
     ]
    },
    {
     "data": {
      "image/png": "[encoded data removed]",
      "text/plain": [
       "<Figure size 432x288 with 1 Axes>"
      ]
     },
     "metadata": {
      "needs_background": "light"
     },
     "output_type": "display_data"
    }
   ],
   "source": [
    "MAXITER = 50\n",
    "alpha = 0.00001\n",
    "w = copy.deepcopy(w0)\n",
    "dev = []\n",
    "dev.append(np.linalg.norm(np.abs(w)-np.abs(ev)))\n",
    "\n",
    "Js = [J(w)]\n",
    "for oi in range(MAXITER):    \n",
    "    for i in range(N):\n",
    "        xi = x[:,i:i+1]\n",
    "        yi = w.T@xi\n",
    "        dw = xi*yi-((yi**2)*w)\n",
    "        w += alpha*dw\n",
    "    Js.append(J(w))\n",
    "    dev.append(np.linalg.norm(np.abs(w)-np.abs(ev)))\n",
    "\n",
    "plt.semilogy(dev[1:])\n",
    "plt.xlabel('num iterations')\n",
    "plt.ylabel('cost')\n",
    "print(w.T)\n",
    "print(np.linalg.norm(np.abs(w)-np.abs(ev)))"
   ]
  },
  {
   "cell_type": "code",
   "execution_count": 435,
   "id": "ff1c3e62",
   "metadata": {},
   "outputs": [
    {
     "name": "stdout",
     "output_type": "stream",
     "text": [
      "5.2616685449466025e-05\n"
     ]
    },
    {
     "data": {
      "text/plain": [
       "Text(0, 0.5, 'cost')"
      ]
     },
     "execution_count": 435,
     "metadata": {},
     "output_type": "execute_result"
    },
    {
     "data": {
      "image/png": "[encoded data removed]",
      "text/plain": [
       "<Figure size 432x288 with 1 Axes>"
      ]
     },
     "metadata": {
      "needs_background": "light"
     },
     "output_type": "display_data"
    }
   ],
   "source": [
    "# Batch gradient descent\n",
    "MAXITER = 50\n",
    "alpha = 0.3\n",
    "dev = []\n",
    "w = copy.deepcopy(w0)\n",
    "Js = []\n",
    "for oi in range(MAXITER):\n",
    "    Exy = 0\n",
    "    Ey2w = 0\n",
    "    if oi == 5:\n",
    "        alpha /= 2\n",
    "    if oi == 10:\n",
    "        alpha /= 2\n",
    "    if oi == 15:\n",
    "        alpha /= 2\n",
    "    \n",
    "    for i in range(N):\n",
    "        xi = x[:,i:i+1]\n",
    "        yi = w.T@xi\n",
    "        Exy += xi*yi\n",
    "        Ey2w += (yi**2)*w\n",
    "    \n",
    "    dw = Exy/N-Ey2w/(N-1)\n",
    "    w += (alpha)*dw\n",
    "    Js.append(J(w))\n",
    "    dev.append(np.linalg.norm(np.abs(w)-np.abs(ev)))\n",
    "\n",
    "print(np.linalg.norm(np.abs(w)-np.abs(ev)))\n",
    "\n",
    "#plt.plot(Js)\n",
    "plt.semilogy(dev)\n",
    "plt.xlabel('num iterations')\n",
    "plt.ylabel('cost')"
   ]
  },
  {
   "cell_type": "code",
   "execution_count": 388,
   "id": "d279bc57",
   "metadata": {},
   "outputs": [
    {
     "name": "stdout",
     "output_type": "stream",
     "text": [
      "[[3.0693875 ]\n",
      " [1.93459974]]\n"
     ]
    }
   ],
   "source": [
    "print(Exy/N)"
   ]
  },
  {
   "cell_type": "code",
   "execution_count": null,
   "id": "0ce9de98",
   "metadata": {},
   "outputs": [],
   "source": []
  },
  {
   "cell_type": "code",
   "execution_count": 185,
   "id": "1cc5647d",
   "metadata": {},
   "outputs": [
    {
     "name": "stdout",
     "output_type": "stream",
     "text": [
      "1.4042161638565474\n"
     ]
    }
   ],
   "source": [
    "print(cost)"
   ]
  },
  {
   "cell_type": "code",
   "execution_count": 181,
   "id": "15783f49",
   "metadata": {},
   "outputs": [
    {
     "name": "stdout",
     "output_type": "stream",
     "text": [
      "[[0.99985201]]\n"
     ]
    }
   ],
   "source": [
    "print(w.T@w)"
   ]
  },
  {
   "cell_type": "code",
   "execution_count": 143,
   "id": "247b6afc",
   "metadata": {},
   "outputs": [
    {
     "name": "stdout",
     "output_type": "stream",
     "text": [
      "(array([3.61803399, 1.38196601]), array([[ 0.85065081, -0.52573111],\n",
      "       [ 0.52573111,  0.85065081]]))\n"
     ]
    }
   ],
   "source": [
    "print(np.linalg.eig(C))"
   ]
  },
  {
   "cell_type": "code",
   "execution_count": 142,
   "id": "b59b8592",
   "metadata": {},
   "outputs": [
    {
     "name": "stdout",
     "output_type": "stream",
     "text": [
      "(array([3.61803399, 1.38196601]), array([[ 0.85065081, -0.52573111],\n",
      "       [ 0.52573111,  0.85065081]]))\n"
     ]
    }
   ],
   "source": []
  }
 ],
 "metadata": {
  "kernelspec": {
   "display_name": "Python 3 (ipykernel)",
   "language": "python",
   "name": "python3"
  },
  "language_info": {
   "codemirror_mode": {
    "name": "ipython",
    "version": 3
   },
   "file_extension": ".py",
   "mimetype": "text/x-python",
   "name": "python",
   "nbconvert_exporter": "python",
   "pygments_lexer": "ipython3",
   "version": "3.9.13"
  }
 },
 "nbformat": 4,
 "nbformat_minor": 5
}
