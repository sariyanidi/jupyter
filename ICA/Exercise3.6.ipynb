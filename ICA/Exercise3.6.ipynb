{
 "cells": [
  {
   "cell_type": "code",
   "execution_count": 222,
   "id": "8cebb77f",
   "metadata": {},
   "outputs": [
    {
     "data": {
      "text/plain": [
       "Text(0.5, 1.0, 'log J(w) vs. #iterations')"
      ]
     },
     "execution_count": 222,
     "metadata": {},
     "output_type": "execute_result"
    },
    {
     "data": {
      "image/png": "[encoded data removed]",
      "text/plain": [
       "<Figure size 720x144 with 2 Axes>"
      ]
     },
     "metadata": {
      "needs_background": "light"
     },
     "output_type": "display_data"
    }
   ],
   "source": [
    "import numpy as np\n",
    "import copy\n",
    "import matplotlib.pyplot as plt\n",
    "np.random.seed(1907)\n",
    "\n",
    "K = 100\n",
    "\n",
    "w0 = np.random.randn(K,1)\n",
    "w = copy.deepcopy(w0)\n",
    "w /= np.linalg.norm(w)\n",
    "\n",
    "x = np.random.randn(K,1)\n",
    "\n",
    "def Ga(y): return (y)**4\n",
    "def nablaGa(y): return 4*(y)**3\n",
    "def nablaGa2(y): return 12*(y)**2\n",
    "\n",
    "def Gb(y): return np.log(np.cosh(y))\n",
    "def nablaGb(y): return np.sinh(y)/np.cosh(y)\n",
    "def nablaGb2(y): return 1-(np.sinh(y)/np.cosh(y))**2\n",
    "\n",
    "\n",
    "def backtrack_linesearch(w, Dw):\n",
    "    t = 1\n",
    "    alpha =  0.3\n",
    "    beta = 0.8\n",
    "    \n",
    "    numit = 0\n",
    "    while (J(w+t*Dw) > J(w)+alpha*t*nablaJw(w).T@Dw):\n",
    "        t *= beta\n",
    "        numit += 1\n",
    "        if numit > 100:\n",
    "            break\n",
    "    \n",
    "    return t\n",
    "            \n",
    "\n",
    "use_first_fn = True\n",
    "\n",
    "if use_first_fn:\n",
    "    G = Ga\n",
    "    nablaG = nablaGa\n",
    "    nablaG2 = nablaGa2\n",
    "else:\n",
    "    G = Gb\n",
    "    nablaG = nablaGb\n",
    "    nablaG2 = nablaGb2\n",
    "\n",
    "def J(w): return G(w.T@x)\n",
    "def nablaJw(w): return nablaG(w.T@x)*x\n",
    "def nablaJ2w(w): return nablaG2(w.T@x)*(x@x.T)\n",
    "\n",
    "Js = []\n",
    "Js.append(J(w)[0,0])\n",
    "\n",
    "MAXITER = 20\n",
    "\n",
    "for i in range(MAXITER):\n",
    "    Dw = np.linalg.solve(nablaJ2w(w), nablaJw(w))\n",
    "    t = backtrack_linesearch(w, -Dw)\n",
    "    w -= Dw\n",
    "    w /= np.linalg.norm(w)\n",
    "    Js.append(J(w)[0,0])\n",
    "\n",
    "plt.figure(figsize=(10,2))\n",
    "plt.subplot(121)\n",
    "plt.plot(Js, 'x-')\n",
    "plt.xlim((0, MAXITER))\n",
    "plt.title('J(w) vs. #iterations (Newton method)')\n",
    "\n",
    "\n",
    "plt.subplot(122)\n",
    "#plt.plot(np.log(Js),'x-')\n",
    "plt.semilogy(Js)\n",
    "plt.xlim((0, MAXITER))\n",
    "plt.title('log J(w) vs. #iterations (Newton method)')\n"
   ]
  },
  {
   "cell_type": "code",
   "execution_count": 225,
   "id": "e65b7bee",
   "metadata": {},
   "outputs": [
    {
     "data": {
      "text/plain": [
       "(0.0, 20.0)"
      ]
     },
     "execution_count": 225,
     "metadata": {},
     "output_type": "execute_result"
    },
    {
     "data": {
      "image/png": "[encoded data removed]",
      "text/plain": [
       "<Figure size 720x144 with 2 Axes>"
      ]
     },
     "metadata": {
      "needs_background": "light"
     },
     "output_type": "display_data"
    }
   ],
   "source": [
    "alpha = 0.03\n",
    "\n",
    "w = copy.deepcopy(w0)\n",
    "w /= np.linalg.norm(w)\n",
    "\n",
    "Js = []\n",
    "Js.append(J(w)[0,0])\n",
    "\n",
    "for i in range(MAXITER):\n",
    "    Dw = alpha*nablaJw(w)\n",
    "    w -= Dw\n",
    "    w /= np.linalg.norm(w)\n",
    "    Js.append(J(w)[0,0])\n",
    "\n",
    "plt.figure(figsize=(10,2))\n",
    "plt.subplot(121)\n",
    "plt.plot(Js, 'x-')\n",
    "plt.xlim((0, MAXITER))\n",
    "plt.title('J(w) vs. #iterations (Gradient descent)')\n",
    "\n",
    "\n",
    "plt.subplot(122)\n",
    "plt.plot(np.log(Js),'x-')\n",
    "plt.xlim((0, MAXITER))"
   ]
  },
  {
   "cell_type": "code",
   "execution_count": 193,
   "id": "2111ca09",
   "metadata": {},
   "outputs": [
    {
     "data": {
      "text/latex": [
       "$\\displaystyle \\frac{\\sinh{\\left(x \\right)}}{\\cosh{\\left(x \\right)}}$"
      ],
      "text/plain": [
       "sinh(x)/cosh(x)"
      ]
     },
     "execution_count": 193,
     "metadata": {},
     "output_type": "execute_result"
    }
   ],
   "source": [
    "import sympy as sp\n",
    "from sympy.abc import x\n",
    "\n",
    "y = sp.log(sp.cosh(x))\n",
    "y.diff(x)"
   ]
  },
  {
   "cell_type": "code",
   "execution_count": 171,
   "id": "9297dfda",
   "metadata": {},
   "outputs": [
    {
     "data": {
      "text/latex": [
       "$\\displaystyle - \\frac{\\sinh^{2}{\\left(x \\right)}}{\\cosh^{2}{\\left(x \\right)}} + 1$"
      ],
      "text/plain": [
       "-sinh(x)**2/cosh(x)**2 + 1"
      ]
     },
     "execution_count": 171,
     "metadata": {},
     "output_type": "execute_result"
    }
   ],
   "source": [
    "y.diff(x).diff(x)"
   ]
  },
  {
   "cell_type": "code",
   "execution_count": 10,
   "id": "03c74db2",
   "metadata": {},
   "outputs": [
    {
     "data": {
      "text/latex": [
       "$\\displaystyle \\frac{\\sinh{\\left(x \\right)}}{\\cosh{\\left(x \\right)}}$"
      ],
      "text/plain": [
       "sinh(x)/cosh(x)"
      ]
     },
     "execution_count": 10,
     "metadata": {},
     "output_type": "execute_result"
    }
   ],
   "source": []
  }
 ],
 "metadata": {
  "kernelspec": {
   "display_name": "Python 3 (ipykernel)",
   "language": "python",
   "name": "python3"
  },
  "language_info": {
   "codemirror_mode": {
    "name": "ipython",
    "version": 3
   },
   "file_extension": ".py",
   "mimetype": "text/x-python",
   "name": "python",
   "nbconvert_exporter": "python",
   "pygments_lexer": "ipython3",
   "version": "3.9.13"
  }
 },
 "nbformat": 4,
 "nbformat_minor": 5
}
