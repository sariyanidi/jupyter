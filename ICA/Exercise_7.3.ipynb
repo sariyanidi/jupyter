{
 "cells": [
  {
   "cell_type": "code",
   "execution_count": 74,
   "id": "19f92d96",
   "metadata": {},
   "outputs": [
    {
     "name": "stdout",
     "output_type": "stream",
     "text": [
      "[[4. 2.]\n",
      " [1. 2.]]\n"
     ]
    }
   ],
   "source": [
    "import numpy as np\n",
    "\n",
    "N = 10\n",
    "A = np.random.randn(2,2)\n",
    "A = np.array([[4, 2], [1, 2.]])\n",
    "S = np.random.randn(2, N)\n",
    "X = A@S\n",
    "print(A.round(2))"
   ]
  },
  {
   "cell_type": "code",
   "execution_count": 75,
   "id": "41106e3a",
   "metadata": {},
   "outputs": [
    {
     "name": "stdout",
     "output_type": "stream",
     "text": [
      "[[4. 2.]\n",
      " [1. 2.]]\n",
      "6.280369834735101e-16\n"
     ]
    }
   ],
   "source": [
    "Ahat = np.linalg.inv(S@S.T)@(S@X.T)\n",
    "Ahat = Ahat.T\n",
    "print(Ahat.round(2))\n",
    "print(np.linalg.norm(Ahat-A, 'fro'))"
   ]
  },
  {
   "cell_type": "code",
   "execution_count": null,
   "id": "1450293a",
   "metadata": {},
   "outputs": [],
   "source": []
  }
 ],
 "metadata": {
  "kernelspec": {
   "display_name": "Python 3 (ipykernel)",
   "language": "python",
   "name": "python3"
  },
  "language_info": {
   "codemirror_mode": {
    "name": "ipython",
    "version": 3
   },
   "file_extension": ".py",
   "mimetype": "text/x-python",
   "name": "python",
   "nbconvert_exporter": "python",
   "pygments_lexer": "ipython3",
   "version": "3.9.13"
  }
 },
 "nbformat": 4,
 "nbformat_minor": 5
}
