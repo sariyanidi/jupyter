{
 "cells": [
  {
   "cell_type": "code",
   "execution_count": 1,
   "id": "bd59737e",
   "metadata": {},
   "outputs": [],
   "source": [
    "\"\"\"\n",
    "Tutorial showing how to use Krylov's method to compute the coefficients of the \n",
    "characteristic polynomial of a matrix. \n",
    "(See Example 7.11.3 of Carl Meyer)\n",
    "\"\"\"\n",
    "\n",
    "import numpy as np\n",
    "n = 5\n",
    "A = np.random.randn(n,n)\n",
    "b = np.random.randn(n,1)\n",
    "\n",
    "# Initialize Krylov's sequence with just the vector b -- see p.646\n",
    "Ks = [b]\n"
   ]
  },
  {
   "cell_type": "code",
   "execution_count": 13,
   "id": "309f05a4",
   "metadata": {},
   "outputs": [
    {
     "name": "stdout",
     "output_type": "stream",
     "text": [
      "6\n"
     ]
    }
   ],
   "source": [
    "def in_subspace(X, x):\n",
    "    r1 = np.linalg.matrix_rank(X)\n",
    "    r2 = np.linalg.matrix_rank(np.concatenate((X, x), axis=1))\n",
    "    \n",
    "    return r1 == r2\n",
    "    \n",
    "Ak = A\n",
    "Ks = [b]\n",
    "terminate = False\n",
    "\n",
    "\"\"\"\n",
    "Keep adding to the Krylov sequence until the vector that we add is a linear\n",
    "combination of the previous vectors in the Krylov sequence.\n",
    "\n",
    "This is necessary in order to construct the annihilating polynomial v()\n",
    "for b relative to A as explained in p.646\n",
    "\"\"\"\n",
    "for k in range(1,n+1):\n",
    "    Akb = Ak@b\n",
    "    terminate = in_subspace(np.concatenate(Ks, axis=1),Akb)\n",
    "    Ks.append(Akb)\n",
    "    if terminate:\n",
    "        break\n",
    "    Ak = Ak@A\n",
    "\n",
    "print(len(Ks))"
   ]
  },
  {
   "cell_type": "code",
   "execution_count": 22,
   "id": "16436bd5",
   "metadata": {},
   "outputs": [
    {
     "name": "stdout",
     "output_type": "stream",
     "text": [
      "[[ 9.98017959]\n",
      " [ 3.45176124]\n",
      " [ 8.30062378]\n",
      " [-0.41550472]\n",
      " [-0.63241821]]\n"
     ]
    }
   ],
   "source": [
    "\"\"\"\n",
    "Find alpha coefficients of annihilating polynomial v()\n",
    "by solving the linear system defined in p.646 for alpha\n",
    "\"\"\"\n",
    "\n",
    "Kj = np.concatenate(Ks[:-1], axis=1)\n",
    "alpha = np.linalg.solve(Kj, Ks[-1])\n",
    "print(alpha)"
   ]
  },
  {
   "cell_type": "code",
   "execution_count": 21,
   "id": "89e4b0e9",
   "metadata": {},
   "outputs": [
    {
     "data": {
      "text/latex": [
       "$x \\mapsto \\text{(-9.980179591248717-2.7274279996247444e-16j)} + (\\text{(-3.4517612357412406+1.811579755424911e-16j)})\\,x + (\\text{(-8.300623781391236-1.2903537466470535e-15j)})\\,x^{2} + (\\text{(0.4155047204934814-4.440892098500626e-16j)})\\,x^{3} + (\\text{(0.6324182052826219+0j)})\\,x^{4} + (\\text{(1+0j)})\\,x^{5}$"
      ],
      "text/plain": [
       "Polynomial([-9.98017959-2.72742800e-16j, -3.45176124+1.81157976e-16j,\n",
       "       -8.30062378-1.29035375e-15j,  0.41550472-4.44089210e-16j,\n",
       "        0.63241821+0.00000000e+00j,  1.        +0.00000000e+00j], domain=[-1.,  1.], window=[-1.,  1.])"
      ]
     },
     "execution_count": 21,
     "metadata": {},
     "output_type": "execute_result"
    }
   ],
   "source": [
    "\"\"\"\n",
    "The alpha coefficients above are the coefficients that we seek!\n",
    "Let's check that we got the solution right\n",
    "\"\"\"\n",
    "\n",
    "import numpy as np\n",
    "\n",
    "def characteristic_polynomial(M: np.ndarray) -> np.polynomial.polynomial.Polynomial:\n",
    "    return np.polynomial.Polynomial.fromroots(np.linalg.eigvals(M))\n",
    "\n",
    "characteristic_polynomial(A)"
   ]
  },
  {
   "cell_type": "code",
   "execution_count": 23,
   "id": "f87d50f2",
   "metadata": {},
   "outputs": [],
   "source": [
    "\"\"\"\n",
    "Our matrix was diagonalizable, that's why we already have the characteristic polynomial.\n",
    "But if it weren't diagonalizable, we would need to proceed further by following\n",
    "equations 7.11.7 and 7.11.8. This would require us to build the companion matrix etc. \n",
    "as below\n",
    "\"\"\"\n",
    "\n",
    "\n",
    "\"\"\"\n",
    "Function to construct the companion matrix C as in 7.11.6\n",
    "\"\"\"\n",
    "def construct_companion_matrix(alpha):\n",
    "    n = len(alpha)\n",
    "    Cbl = np.eye(n-1)\n",
    "    Cl = np.concatenate((np.zeros((1,n-1)), Cbl), axis=0)\n",
    "    return np.concatenate((Cl, alpha), axis=1)\n"
   ]
  },
  {
   "cell_type": "code",
   "execution_count": 17,
   "id": "81a4fc85",
   "metadata": {},
   "outputs": [
    {
     "name": "stdout",
     "output_type": "stream",
     "text": [
      "[[ 0.          0.          0.          0.          9.98017959]\n",
      " [ 1.          0.          0.          0.          3.45176124]\n",
      " [ 0.          1.          0.          0.          8.30062378]\n",
      " [ 0.          0.          1.          0.         -0.41550472]\n",
      " [ 0.          0.          0.          1.         -0.63241821]]\n"
     ]
    }
   ],
   "source": [
    "\"\"\"\n",
    "Construct the companion matrix for our specific alphas.\n",
    "\"\"\"\n",
    "\n",
    "C = construct_companion_matrix(alpha)\n",
    "print(C)"
   ]
  },
  {
   "cell_type": "code",
   "execution_count": 24,
   "id": "495ae985",
   "metadata": {},
   "outputs": [
    {
     "data": {
      "text/plain": [
       "array([[-2.73427318e+00,  4.00429951e+00, -5.87274058e+00,\n",
       "        -3.02421990e+01,  3.83192646e+01],\n",
       "       [ 3.75018363e-03, -2.75952197e+00, -2.75747994e+00,\n",
       "         6.28349867e+00, -4.47116598e+01],\n",
       "       [ 6.36030697e+00, -3.83399668e+00, -8.10912452e+00,\n",
       "         4.33909424e+01, -5.81405288e+01],\n",
       "       [-9.98739105e-02, -7.00352542e+00,  1.79886202e+01,\n",
       "        -2.11216519e+01, -4.22729095e+01],\n",
       "       [-1.09086426e+00,  9.78158997e+00,  3.30416497e+00,\n",
       "         5.83166528e+00,  7.18333666e+01]])"
      ]
     },
     "execution_count": 24,
     "metadata": {},
     "output_type": "execute_result"
    }
   ],
   "source": [
    "\"\"\"\n",
    "According to Krylov's method (eq. 7.11.7), the matrix below ...\n",
    "\"\"\"\n",
    "\n",
    "Kj@C"
   ]
  },
  {
   "cell_type": "code",
   "execution_count": 25,
   "id": "c620caa5",
   "metadata": {},
   "outputs": [
    {
     "data": {
      "text/plain": [
       "array([[-2.73427318e+00,  4.00429951e+00, -5.87274058e+00,\n",
       "        -3.02421990e+01,  3.83192646e+01],\n",
       "       [ 3.75018363e-03, -2.75952197e+00, -2.75747994e+00,\n",
       "         6.28349867e+00, -4.47116598e+01],\n",
       "       [ 6.36030697e+00, -3.83399668e+00, -8.10912452e+00,\n",
       "         4.33909424e+01, -5.81405288e+01],\n",
       "       [-9.98739105e-02, -7.00352542e+00,  1.79886202e+01,\n",
       "        -2.11216519e+01, -4.22729095e+01],\n",
       "       [-1.09086426e+00,  9.78158997e+00,  3.30416497e+00,\n",
       "         5.83166528e+00,  7.18333666e+01]])"
      ]
     },
     "execution_count": 25,
     "metadata": {},
     "output_type": "execute_result"
    }
   ],
   "source": [
    "\"\"\"\n",
    "is equal to this one\n",
    "\"\"\"\n",
    "A@Kj"
   ]
  },
  {
   "cell_type": "code",
   "execution_count": 28,
   "id": "4646f66d",
   "metadata": {},
   "outputs": [
    {
     "data": {
      "text/plain": [
       "'\\nAnd the moral of the story is that most information about A is\\nstored in the companion matrix C, which is upper Hessenberg,\\nand therefore can be used for efficient computations\\n\\n(see p.650)\\n'"
      ]
     },
     "execution_count": 28,
     "metadata": {},
     "output_type": "execute_result"
    }
   ],
   "source": [
    "\"\"\"\n",
    "And the moral of the story is that most information about A is\n",
    "stored in the companion matrix C, which is upper Hessenberg,\n",
    "and therefore can be used for efficient computations\n",
    "\n",
    "(see p.650)\n",
    "\"\"\""
   ]
  }
 ],
 "metadata": {
  "kernelspec": {
   "display_name": "Python 3 (ipykernel)",
   "language": "python",
   "name": "python3"
  },
  "language_info": {
   "codemirror_mode": {
    "name": "ipython",
    "version": 3
   },
   "file_extension": ".py",
   "mimetype": "text/x-python",
   "name": "python",
   "nbconvert_exporter": "python",
   "pygments_lexer": "ipython3",
   "version": "3.9.13"
  }
 },
 "nbformat": 4,
 "nbformat_minor": 5
}
